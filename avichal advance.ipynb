{
 "cells": [
  {
   "cell_type": "markdown",
   "id": "28e11fa8-b26b-4cc6-8df6-0cbdd72f12e1",
   "metadata": {},
   "source": [
    "Q2. Conduct a chi-square goodness of fit test to determine if the distribution of colors of M&Ms in a bag\n",
    "matches the expected distribution of 20% blue, 20% orange, 20% green, 10% yellow, 10% red, and 20%\n",
    "brown. Use Python to perform the test with a significance level of 0.05."
   ]
  },
  {
   "cell_type": "code",
   "execution_count": 14,
   "id": "9b2a4498-2bf0-4647-b78a-bbc0a407fc94",
   "metadata": {},
   "outputs": [],
   "source": [
    "from scipy import stats\n",
    "import numpy as np"
   ]
  },
  {
   "cell_type": "code",
   "execution_count": 15,
   "id": "8b8a07c4-173f-439f-91ca-04a83efee47b",
   "metadata": {},
   "outputs": [
    {
     "data": {
      "text/plain": [
       "(100, 100)"
      ]
     },
     "execution_count": 15,
     "metadata": {},
     "output_type": "execute_result"
    }
   ],
   "source": [
    "expected_data = [20,20,20,10,10,20]\n",
    "observed_data = [10,30,10,20,20,10]\n",
    "sum(expected_data),sum(observed_data)"
   ]
  },
  {
   "cell_type": "code",
   "execution_count": 16,
   "id": "05cc08ee-b4f2-46ba-a84e-e6a331eb0e85",
   "metadata": {},
   "outputs": [],
   "source": [
    "statistic,p_value=stats.chisquare(observed_data,expected_data)"
   ]
  },
  {
   "cell_type": "code",
   "execution_count": 17,
   "id": "5c3833c6-8c4a-4a5b-a166-8230d4ea8591",
   "metadata": {},
   "outputs": [
    {
     "data": {
      "text/plain": [
       "(40.0, 1.493367900050393e-07)"
      ]
     },
     "execution_count": 17,
     "metadata": {},
     "output_type": "execute_result"
    }
   ],
   "source": [
    "statistic,p_value"
   ]
  },
  {
   "cell_type": "code",
   "execution_count": 18,
   "id": "771ae2ee-0702-45ff-8a3e-18eba80e2f79",
   "metadata": {},
   "outputs": [
    {
     "name": "stdout",
     "output_type": "stream",
     "text": [
      "5\n"
     ]
    },
    {
     "data": {
      "text/plain": [
       "11.070497693516351"
      ]
     },
     "execution_count": 18,
     "metadata": {},
     "output_type": "execute_result"
    }
   ],
   "source": [
    "significanse= 0.05\n",
    "dof = len(expected_data)-1\n",
    "print(dof)\n",
    "critical_value= stats.chi2.ppf(1-significanse,dof)\n",
    "critical_value"
   ]
  },
  {
   "cell_type": "code",
   "execution_count": 19,
   "id": "4dd1d824-dff5-445c-93cd-9740bfdd7ea5",
   "metadata": {},
   "outputs": [
    {
     "name": "stdout",
     "output_type": "stream",
     "text": [
      "reject null hypothesis\n"
     ]
    }
   ],
   "source": [
    "if statistic>critical_value:\n",
    "    print('reject null hypothesis')\n",
    "else:\n",
    "    print('accept null hypothesis')"
   ]
  },
  {
   "cell_type": "markdown",
   "id": "3fc3208f-50b3-4db0-bc96-daa5e4bbf438",
   "metadata": {},
   "source": [
    "Q3. Use Python to calculate the chi-square statistic and p-value for a contingency table with the following\n",
    "data:\n",
    "\n",
    "Group     A    B   \n",
    "\n",
    "Outcome 1 20  15\n",
    "Outcome 2 10  25\n",
    "Outcome 3 15  20"
   ]
  },
  {
   "cell_type": "code",
   "execution_count": 20,
   "id": "8bca085e-c64a-4ab1-9b13-8ecbb0f15e8a",
   "metadata": {},
   "outputs": [],
   "source": [
    "groupA_expected= [20,10,15]\n",
    "groupA_observed= [10,15,20]\n",
    "groupb_expected= [15,25,20]\n",
    "groupb_observed= [25,20,15]"
   ]
  },
  {
   "cell_type": "code",
   "execution_count": 21,
   "id": "3432a0f9-2c2d-4832-a661-9962a4fbe3d1",
   "metadata": {},
   "outputs": [],
   "source": [
    "from scipy import stats\n",
    "import numpy as np"
   ]
  },
  {
   "cell_type": "code",
   "execution_count": 22,
   "id": "bd895714-69b0-412a-ad30-4e624bab599d",
   "metadata": {},
   "outputs": [],
   "source": [
    "statistic_A,p_value_A=stats.chisquare([groupA_observed,groupA_expected])"
   ]
  },
  {
   "cell_type": "code",
   "execution_count": 23,
   "id": "1eb7e9f4-200b-41cc-b660-f691785233d1",
   "metadata": {},
   "outputs": [],
   "source": [
    "statisticB,pvalue_B=stats.chisquare(groupb_observed,groupb_expected)"
   ]
  },
  {
   "cell_type": "markdown",
   "id": "48b8210c-5a08-4544-b8f9-a936ca7376cd",
   "metadata": {},
   "source": [
    "Q6. Use Python to plot the chi-square distribution with 10 degrees of freedom. Label the axes and shade the\n",
    "area corresponding to a chi-square statistic of 15."
   ]
  },
  {
   "cell_type": "code",
   "execution_count": 29,
   "id": "d7c48d65-fd14-405a-8788-c3ca5fe46de8",
   "metadata": {},
   "outputs": [
    {
     "data": {
      "text/plain": [
       "Text(0, 0.5, 'y abel')"
      ]
     },
     "execution_count": 29,
     "metadata": {},
     "output_type": "execute_result"
    },
    {
     "data": {
      "image/png": "[encoded data removed]",
      "text/plain": [
       "<Figure size 640x480 with 1 Axes>"
      ]
     },
     "metadata": {},
     "output_type": "display_data"
    }
   ],
   "source": [
    "x = np.arange(0, 20, 0.001)\n",
    "import matplotlib.pyplot as plt\n",
    "#plot Chi-square distribution with 10 degrees of freedom\n",
    "plt.plot(x, stats.chi2.ppf(x, df=10))\n",
    "plt.xlabel('x axis')\n",
    "plt.ylabel('y abel')"
   ]
  },
  {
   "cell_type": "markdown",
   "id": "16b5b37a-cf36-425c-94bf-05f1961f5f24",
   "metadata": {},
   "source": [
    "Q10. A study was conducted to determine if the proportion of people who prefer milk chocolate, dark\n",
    "chocolate, or white chocolate is different in the U.S. versus the U.K. A random sample of 500 people from\n",
    "the U.S. and a random sample of 500 people from the U.K. were surveyed. The results are shown in the\n",
    "contingency table below. Conduct a chi-square test for independence to determine if there is a significant\n",
    "association between chocolate preference and country of origin.\n",
    "Use a significance level of 0.01.\n",
    "\n",
    "\n",
    "\n",
    "           Milk Chocolate     Dark Chocolate  White Chocolate\n",
    "\n",
    "U.S. (n=500)  200             150               150\n",
    "\n",
    "\n",
    "U.K. (n=500)  225             175               100"
   ]
  },
  {
   "cell_type": "markdown",
   "id": "8d8c4c01-20bd-4c9e-b430-c67e24ba4297",
   "metadata": {},
   "source": [
    "null hypothesis H0 = data meets the expectation \n",
    "alternative null hypothesis = data does not meets expectation\n",
    "significance value = 0.01\n",
    "DOF = k-1 = 3-1=2\n",
    "critical value = 9.210\n",
    "if chi square is greater than 9.210 reject H0 else fail to reject H0\n",
    "\n",
    "            Milk Chocolate     Dark Chocolate  White Chocolate\n",
    "\n",
    "U.S. (n=500)  200             150               150  =  500\n",
    "\n",
    "\n",
    "U.K. (n=500)  225             175               100  =  500\n",
    "           \n",
    "              \n",
    "total        425              325               250     1000\n",
    "\n",
    "425*500/1000=212.5\n",
    "\n",
    "x*2=E(o-e)2/e\n",
    "\n",
    " = (200-212.5)2/212.5 = 0.73\n",
    " fail to recject H0"
   ]
  },
  {
   "cell_type": "markdown",
   "id": "9d8b6e90-b80c-4492-b1a7-0fa5fc217202",
   "metadata": {},
   "source": [
    "Q4. A study of the prevalence of smoking in a population of 500 individuals found that 60 individuals\n",
    "smoked. Use Python to calculate the 95% confidence interval for the true proportion of individuals in the\n",
    "population who smoke."
   ]
  },
  {
   "cell_type": "code",
   "execution_count": 25,
   "id": "54f44307-34e6-49a5-b6b7-d3f2a8b3f53f",
   "metadata": {},
   "outputs": [
    {
     "name": "stderr",
     "output_type": "stream",
     "text": [
      "/tmp/ipykernel_77/3167880585.py:8: DeprecationWarning: Use of keyword argument `alpha` for method `interval` is deprecated. Use first positional argument or keyword argument `confidence` instead.\n",
      "  st.t.interval(alpha=0.95, df=len(gfg_data)-1,\n"
     ]
    },
    {
     "data": {
      "text/plain": [
       "(23.244909002957485, 310.0884243303758)"
      ]
     },
     "execution_count": 25,
     "metadata": {},
     "output_type": "execute_result"
    }
   ],
   "source": [
    "\n",
    "import numpy as np\n",
    "import scipy.stats as st\n",
    "  \n",
    "# define sample data\n",
    "gfg_data = [200,100,200]\n",
    "  \n",
    "# create 95% confidence interval\n",
    "st.t.interval(alpha=0.95, df=len(gfg_data)-1,\n",
    "              loc=np.mean(gfg_data),\n",
    "              scale=st.sem(gfg_data))"
   ]
  },
  {
   "cell_type": "markdown",
   "id": "8422b46d-cc95-45ba-a865-db9e50aebd3f",
   "metadata": {},
   "source": [
    "Q5. Calculate the 90% confidence interval for a sample of data with a mean of 75 and a standard deviation\n",
    "of 12 using Python. Interpret the results."
   ]
  },
  {
   "cell_type": "code",
   "execution_count": 26,
   "id": "bc9347fa-f5f0-4624-9988-3751506e367a",
   "metadata": {},
   "outputs": [
    {
     "name": "stderr",
     "output_type": "stream",
     "text": [
      "/tmp/ipykernel_77/2921282070.py:8: DeprecationWarning: Use of keyword argument `alpha` for method `interval` is deprecated. Use first positional argument or keyword argument `confidence` instead.\n",
      "  st.t.interval(alpha=0.95, df=len(gfg_data)-1,\n"
     ]
    },
    {
     "data": {
      "text/plain": [
       "(array([ -68.42175766, -143.42175766]), array([218.42175766, 143.42175766]))"
      ]
     },
     "execution_count": 26,
     "metadata": {},
     "output_type": "execute_result"
    }
   ],
   "source": [
    "import numpy as np\n",
    "import scipy.stats as st\n",
    "  \n",
    "# define sample data\n",
    "gfg_data = [200,100,200]\n",
    "  \n",
    "# create 95% confidence interval\n",
    "st.t.interval(alpha=0.95, df=len(gfg_data)-1,\n",
    "              loc=[np.mean(75),np.std(12)],\n",
    "              scale=st.sem(gfg_data))"
   ]
  },
  {
   "cell_type": "markdown",
   "id": "75d795ba-64ba-4d8e-af52-6fef455b4a95",
   "metadata": {},
   "source": [
    "Q9. A study was conducted to determine if there is an association between smoking status (smoker or\n",
    "non-smoker) and lung cancer diagnosis (yes or no). The results are shown in the contingency table below.\n",
    "Conduct a chi-square test for independence to determine if there is a significant association between\n",
    "smoking status and lung cancer diagnosis.\n",
    "           Lung Cancer: Yes           Lung Cancer: No\n",
    "Smoker     60                  140\n",
    "Non-smoker 30                  170"
   ]
  },
  {
   "cell_type": "markdown",
   "id": "885060f2-4875-46b2-bb41-22b5f557d4fa",
   "metadata": {},
   "source": [
    "null hypothesis H0=the meets expectation\n",
    "alternative hypothesis = the data does not meet null hypothesis\n",
    "singnificanse = 0.05\n",
    "DOF = 2-1=1\n",
    "critical value= 3.84\n",
    "if x*2 is greater tham 3.841 we reject H0 else fail to reject\n",
    "x*2=E(o-e)2/e\n",
    "  Lung Cancer: Yes           Lung Cancer: No\n",
    "Smoker     60                  140    =  200\n",
    "\n",
    "Non-smoker 30                  170    = 200\n",
    "\n",
    "total      90                  310    = 400\n",
    "\n",
    "90*200/400=45\n",
    "\n",
    "= (30-45)2/45 = 5\n",
    "critical value > 5\n",
    "hense reject null hypothesis"
   ]
  },
  {
   "cell_type": "markdown",
   "id": "347a81db-fcdb-41cf-92ee-a9219567b18d",
   "metadata": {},
   "source": [
    "Q8. A researcher hypothesizes that a coin is biased towards tails. They flip the coin 100 times and observe\n",
    "45 tails. Conduct a chi-square goodness of fit test to determine if the observed frequencies match the\n",
    "expected frequencies of a fair coin. Use a significance level of 0.05."
   ]
  },
  {
   "cell_type": "markdown",
   "id": "cea92171-9993-459a-b8f8-9c04964066ca",
   "metadata": {},
   "source": [
    "observer data     expected data\n",
    "(tails = 45       tails =50\n",
    "head = 55         head  = 50\n",
    "total = 100)      total = 100\n",
    "\n",
    "significanse = 0.05\n",
    "dof = k-1 = 2-1=1\n",
    "critical value = 3.841\n",
    "\n",
    "x*2= (0-e)2/e\n",
    " \n",
    "x*2 = (45-50)*2/50 + (55-50)*2/50\n",
    "x*2= 0.25\n",
    "\n",
    "critical_value>x*2reject the H0"
   ]
  },
  {
   "cell_type": "markdown",
   "id": "e4476c17-cfe1-4af0-8354-e615f57c78a1",
   "metadata": {},
   "source": [
    "Q1. Calculate the 95% confidence interval for a sample of data with a mean of 50 and a standard deviation\n",
    "of 5 using Python. Interpret the results."
   ]
  },
  {
   "cell_type": "code",
   "execution_count": 27,
   "id": "427bc40d-7605-4087-90fa-ce12aa74e67a",
   "metadata": {},
   "outputs": [],
   "source": [
    "from scipy import stats\n",
    "import numpy as np"
   ]
  },
  {
   "cell_type": "code",
   "execution_count": 28,
   "id": "80d7e634-1976-43a5-a158-b36ca26c6d67",
   "metadata": {},
   "outputs": [
    {
     "data": {
      "text/plain": [
       "(array([46.81755369, -3.18244631]), array([53.18244631,  3.18244631]))"
      ]
     },
     "execution_count": 28,
     "metadata": {},
     "output_type": "execute_result"
    }
   ],
   "source": [
    "data = [12,10,13,12]\n",
    "stats.t.interval(confidence=0.95,loc=[np.mean(50),np.std(5)],df= len(data)-1)"
   ]
  },
  {
   "cell_type": "code",
   "execution_count": null,
   "id": "c32c92d6-f56a-44b0-a83e-3e9f23d410c5",
   "metadata": {},
   "outputs": [],
   "source": []
  }
 ],
 "metadata": {
  "kernelspec": {
   "display_name": "Python 3 (ipykernel)",
   "language": "python",
   "name": "python3"
  },
  "language_info": {
   "codemirror_mode": {
    "name": "ipython",
    "version": 3
   },
   "file_extension": ".py",
   "mimetype": "text/x-python",
   "name": "python",
   "nbconvert_exporter": "python",
   "pygments_lexer": "ipython3",
   "version": "3.10.8"
  }
 },
 "nbformat": 4,
 "nbformat_minor": 5
}
